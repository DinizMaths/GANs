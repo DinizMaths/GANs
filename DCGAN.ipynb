{
  "cells": [
    {
      "cell_type": "markdown",
      "metadata": {
        "id": "80Lc4KJ0zYhV"
      },
      "source": [
        "# DCGAN (Deep Convolutional Generative Adversarial Network)"
      ]
    },
    {
      "cell_type": "markdown",
      "metadata": {
        "id": "o-dksjjqzm-3"
      },
      "source": [
        "- Published in 2015 by Radford et al.\n",
        "- Similar to the original GAN, but uses Deep Convolutional Networks instead of fully-connected\n",
        "- This implies that the DCGAN is more suitable to work with images and videos\n",
        "- The generator receive as input a random noise and returns a **fake** image\n",
        "- The discriminator receives as input real and fake images and returns a value between **0** and **1** to indicates how much true is the image\n",
        "- Uses **binary cross-entropy** as loss function\n",
        "- The generator don't see the real images, just learns by the discriminator feedback"
      ]
    },
    {
      "cell_type": "markdown",
      "metadata": {
        "id": "7-2NoHALzZYe"
      },
      "source": [
        "# Importing Libraries"
      ]
    },
    {
      "cell_type": "code",
      "execution_count": 39,
      "metadata": {
        "id": "U-PXmp26H0F2"
      },
      "outputs": [],
      "source": [
        "import numpy      as np\n",
        "import tensorflow as tf\n",
        "\n",
        "from tensorflow import keras"
      ]
    },
    {
      "cell_type": "code",
      "source": [
        "import matplotlib.pyplot as plt\n",
        "import matplotlib        as mpl"
      ],
      "metadata": {
        "id": "1D8ozz7NH5rt"
      },
      "execution_count": 40,
      "outputs": []
    },
    {
      "cell_type": "markdown",
      "source": [
        "## Versions"
      ],
      "metadata": {
        "id": "_Q3WenqzIFkT"
      }
    },
    {
      "cell_type": "code",
      "source": [
        "print(f\"Numpy: {np.__version__}\")\n",
        "print(f\"Tensorflow: {tf.__version__}\")\n",
        "print(f\"Keras: {keras.__version__}\")\n",
        "print(f\"Matplotlib: {mpl.__version__}\")"
      ],
      "metadata": {
        "colab": {
          "base_uri": "https://localhost:8080/"
        },
        "id": "Y7AT7Vp3IDnD",
        "outputId": "24e4d480-287e-44c7-a6de-b8e78eb090ed"
      },
      "execution_count": 41,
      "outputs": [
        {
          "output_type": "stream",
          "name": "stdout",
          "text": [
            "Numpy: 1.22.4\n",
            "Tensorflow: 2.12.0\n",
            "Keras: 2.12.0\n",
            "Matplotlib: 3.7.1\n"
          ]
        }
      ]
    },
    {
      "cell_type": "markdown",
      "source": [
        "# Data Preprocessing"
      ],
      "metadata": {
        "id": "D39rJTmKIpMv"
      }
    },
    {
      "cell_type": "code",
      "source": [
        "(X_train, y_train), (_, _) = keras.datasets.mnist.load_data()"
      ],
      "metadata": {
        "id": "J1puYTgBIsqD"
      },
      "execution_count": 42,
      "outputs": []
    },
    {
      "cell_type": "code",
      "source": [
        "X_train.shape"
      ],
      "metadata": {
        "colab": {
          "base_uri": "https://localhost:8080/"
        },
        "id": "aGmMa_-7I5ku",
        "outputId": "af6f8ed1-67c2-4c88-828c-eaed9d0cb988"
      },
      "execution_count": 43,
      "outputs": [
        {
          "output_type": "execute_result",
          "data": {
            "text/plain": [
              "(60000, 28, 28)"
            ]
          },
          "metadata": {},
          "execution_count": 43
        }
      ]
    },
    {
      "cell_type": "markdown",
      "source": [
        "60000 images 28x28"
      ],
      "metadata": {
        "id": "B9iVi8guJBQC"
      }
    },
    {
      "cell_type": "code",
      "source": [
        "y_train.shape"
      ],
      "metadata": {
        "colab": {
          "base_uri": "https://localhost:8080/"
        },
        "id": "tL-IGfRfI8kF",
        "outputId": "76d9159b-cdd0-4ae6-e23c-c95b3be83eb8"
      },
      "execution_count": 44,
      "outputs": [
        {
          "output_type": "execute_result",
          "data": {
            "text/plain": [
              "(60000,)"
            ]
          },
          "metadata": {},
          "execution_count": 44
        }
      ]
    },
    {
      "cell_type": "markdown",
      "source": [
        "60000 labels"
      ],
      "metadata": {
        "id": "MhrKD_fTJGM_"
      }
    },
    {
      "cell_type": "markdown",
      "source": [
        "## Visualizating"
      ],
      "metadata": {
        "id": "0OwjZTjTJZUV"
      }
    },
    {
      "cell_type": "code",
      "source": [
        "i = np.random.randint(0, 60000)\n",
        "\n",
        "plt.imshow(X_train[i], cmap=\"gray\")\n",
        "\n",
        "plt.title(f\"Digit: {y_train[i]}\")\n",
        "\n",
        "plt.show()"
      ],
      "metadata": {
        "colab": {
          "base_uri": "https://localhost:8080/",
          "height": 452
        },
        "id": "VH7RtgBqJ0KK",
        "outputId": "9d63c24b-f261-4089-ee31-8df6d52f89c7"
      },
      "execution_count": 45,
      "outputs": [
        {
          "output_type": "display_data",
          "data": {
            "text/plain": [
              "<Figure size 640x480 with 1 Axes>"
            ],
            "image/png": "[encoded data removed]"
          },
          "metadata": {}
        }
      ]
    },
    {
      "cell_type": "markdown",
      "source": [
        "The original images have **3** channels of colors, so let's take only **1**"
      ],
      "metadata": {
        "id": "43mYBcRbKkri"
      }
    },
    {
      "cell_type": "markdown",
      "source": [
        "## Reshape"
      ],
      "metadata": {
        "id": "68rN_QOmMlcU"
      }
    },
    {
      "cell_type": "code",
      "source": [
        "X_train = X_train.reshape(X_train.shape[0], 28, 28, 1).astype(\"float32\")"
      ],
      "metadata": {
        "id": "qAw-Y7JiKsWB"
      },
      "execution_count": 46,
      "outputs": []
    },
    {
      "cell_type": "markdown",
      "source": [
        "## Normalize"
      ],
      "metadata": {
        "id": "srIxUUxNMnMG"
      }
    },
    {
      "cell_type": "markdown",
      "source": [
        "The `max` and `min` value for a pixel"
      ],
      "metadata": {
        "id": "aDezGaCMLMH2"
      }
    },
    {
      "cell_type": "code",
      "source": [
        "X_train[0].min(), X_train[0].max()"
      ],
      "metadata": {
        "colab": {
          "base_uri": "https://localhost:8080/"
        },
        "id": "MeLjj05QLQ8M",
        "outputId": "fa676c68-a6b6-43fa-bac0-4f3999c1cace"
      },
      "execution_count": 47,
      "outputs": [
        {
          "output_type": "execute_result",
          "data": {
            "text/plain": [
              "(0.0, 255.0)"
            ]
          },
          "metadata": {},
          "execution_count": 47
        }
      ]
    },
    {
      "cell_type": "markdown",
      "source": [
        "Now we need to **normalize** the values. When using GAN's it's usual normalize in [-1, 1] scale"
      ],
      "metadata": {
        "id": "ZgqiuzRDL3Yl"
      }
    },
    {
      "cell_type": "code",
      "source": [
        "medium_value = (255 - 0) / 2\n",
        "\n",
        "medium_value"
      ],
      "metadata": {
        "colab": {
          "base_uri": "https://localhost:8080/"
        },
        "id": "Xc4OhXeqMMfR",
        "outputId": "d51fc674-1487-4312-acdf-701f10654e04"
      },
      "execution_count": 48,
      "outputs": [
        {
          "output_type": "execute_result",
          "data": {
            "text/plain": [
              "127.5"
            ]
          },
          "metadata": {},
          "execution_count": 48
        }
      ]
    },
    {
      "cell_type": "code",
      "source": [
        "X_train = (X_train - medium_value) / medium_value"
      ],
      "metadata": {
        "id": "_JdBxb26MEyy"
      },
      "execution_count": 49,
      "outputs": []
    },
    {
      "cell_type": "markdown",
      "source": [
        "So now, the `min` and `max` are"
      ],
      "metadata": {
        "id": "Wn3Oz9WnMY24"
      }
    },
    {
      "cell_type": "code",
      "source": [
        "X_train[0].min(), X_train[0].max()"
      ],
      "metadata": {
        "colab": {
          "base_uri": "https://localhost:8080/"
        },
        "id": "1hpNPeeXMcZ4",
        "outputId": "3b6cc17d-9551-4eb4-9ae9-0d2528e423ce"
      },
      "execution_count": 50,
      "outputs": [
        {
          "output_type": "execute_result",
          "data": {
            "text/plain": [
              "(-1.0, 1.0)"
            ]
          },
          "metadata": {},
          "execution_count": 50
        }
      ]
    },
    {
      "cell_type": "markdown",
      "source": [
        "## Batches"
      ],
      "metadata": {
        "id": "TrxAFi8zMpTE"
      }
    },
    {
      "cell_type": "code",
      "source": [
        "BUFFER_SIZE = 60000\n",
        "BATCH_SIZE  = 256"
      ],
      "metadata": {
        "id": "6DtKGtYdMsEr"
      },
      "execution_count": 51,
      "outputs": []
    },
    {
      "cell_type": "code",
      "source": [
        "BUFFER_SIZE / BATCH_SIZE"
      ],
      "metadata": {
        "colab": {
          "base_uri": "https://localhost:8080/"
        },
        "id": "e6j3IPPtM3EA",
        "outputId": "9c56810c-2d41-44d6-ac15-cccc0012ab3a"
      },
      "execution_count": 52,
      "outputs": [
        {
          "output_type": "execute_result",
          "data": {
            "text/plain": [
              "234.375"
            ]
          },
          "metadata": {},
          "execution_count": 52
        }
      ]
    },
    {
      "cell_type": "markdown",
      "source": [
        "This mean we have **234 batches** and each batch with **256 images**."
      ],
      "metadata": {
        "id": "_4nyN_81NJMp"
      }
    },
    {
      "cell_type": "markdown",
      "source": [
        "## Creating Dataset"
      ],
      "metadata": {
        "id": "MaFUFQpSNR9W"
      }
    },
    {
      "cell_type": "code",
      "source": [
        "type(X_train)"
      ],
      "metadata": {
        "colab": {
          "base_uri": "https://localhost:8080/"
        },
        "id": "j9Zy8eh4NUzy",
        "outputId": "8e76949c-7434-4a50-b801-9a736ae8f1e1"
      },
      "execution_count": 53,
      "outputs": [
        {
          "output_type": "execute_result",
          "data": {
            "text/plain": [
              "numpy.ndarray"
            ]
          },
          "metadata": {},
          "execution_count": 53
        }
      ]
    },
    {
      "cell_type": "code",
      "source": [
        "X_train = tf.data.Dataset.from_tensor_slices(X_train).shuffle(BUFFER_SIZE).batch(BATCH_SIZE)"
      ],
      "metadata": {
        "id": "XOIKfXZwNXeG"
      },
      "execution_count": 54,
      "outputs": []
    },
    {
      "cell_type": "code",
      "source": [
        "type(X_train)"
      ],
      "metadata": {
        "colab": {
          "base_uri": "https://localhost:8080/"
        },
        "id": "tefPEDSVNs6C",
        "outputId": "75006c4e-b146-42a2-a984-b5c9169ff649"
      },
      "execution_count": 55,
      "outputs": [
        {
          "output_type": "execute_result",
          "data": {
            "text/plain": [
              "tensorflow.python.data.ops.batch_op._BatchDataset"
            ]
          },
          "metadata": {},
          "execution_count": 55
        }
      ]
    },
    {
      "cell_type": "markdown",
      "source": [
        "# Creating **Generator**"
      ],
      "metadata": {
        "id": "37lQ_4a1JOz-"
      }
    },
    {
      "cell_type": "code",
      "source": [
        "def generator():\n",
        "  net = keras.Sequential(name=\"Generator\")\n",
        "\n",
        "  net.add(keras.layers.Dense(units=7*7*BATCH_SIZE, use_bias=False, input_shape=(100,)))\n",
        "  net.add(keras.layers.BatchNormalization())\n",
        "  net.add(keras.layers.LeakyReLU())\n",
        "\n",
        "  net.add(keras.layers.Reshape((7, 7, BATCH_SIZE)))\n",
        "\n",
        "  # 7 x 7 x 128\n",
        "  net.add(keras.layers.Conv2DTranspose(filters=128, kernel_size=(5, 5), padding=\"same\", use_bias=False))\n",
        "  net.add(keras.layers.BatchNormalization())\n",
        "  net.add(keras.layers.LeakyReLU())\n",
        "\n",
        "  # 14 x 14 x 64\n",
        "  net.add(keras.layers.Conv2DTranspose(filters=64, kernel_size=(5, 5), padding=\"same\", use_bias=False, strides=(2, 2)))\n",
        "  net.add(keras.layers.BatchNormalization())\n",
        "  net.add(keras.layers.LeakyReLU())\n",
        "\n",
        "  # 28 x 28 x 1\n",
        "  net.add(keras.layers.Conv2DTranspose(filters=1, kernel_size=(5, 5), padding=\"same\", use_bias=False, strides=(2, 2), activation=\"tanh\"))\n",
        "\n",
        "  net.summary()\n",
        "\n",
        "  return net"
      ],
      "metadata": {
        "id": "-hsD3hfWN4u_"
      },
      "execution_count": 62,
      "outputs": []
    },
    {
      "cell_type": "code",
      "source": [
        "gen_net = generator()"
      ],
      "metadata": {
        "colab": {
          "base_uri": "https://localhost:8080/"
        },
        "id": "_ktPfKyhoNbv",
        "outputId": "535946db-d106-4b88-ad4e-5ff767097284"
      },
      "execution_count": 66,
      "outputs": [
        {
          "output_type": "stream",
          "name": "stdout",
          "text": [
            "Model: \"Generator\"\n",
            "_________________________________________________________________\n",
            " Layer (type)                Output Shape              Param #   \n",
            "=================================================================\n",
            " dense_4 (Dense)             (None, 12544)             1254400   \n",
            "                                                                 \n",
            " batch_normalization_12 (Bat  (None, 12544)            50176     \n",
            " chNormalization)                                                \n",
            "                                                                 \n",
            " leaky_re_lu_12 (LeakyReLU)  (None, 12544)             0         \n",
            "                                                                 \n",
            " reshape_4 (Reshape)         (None, 7, 7, 256)         0         \n",
            "                                                                 \n",
            " conv2d_transpose_12 (Conv2D  (None, 7, 7, 128)        819200    \n",
            " Transpose)                                                      \n",
            "                                                                 \n",
            " batch_normalization_13 (Bat  (None, 7, 7, 128)        512       \n",
            " chNormalization)                                                \n",
            "                                                                 \n",
            " leaky_re_lu_13 (LeakyReLU)  (None, 7, 7, 128)         0         \n",
            "                                                                 \n",
            " conv2d_transpose_13 (Conv2D  (None, 14, 14, 64)       204800    \n",
            " Transpose)                                                      \n",
            "                                                                 \n",
            " batch_normalization_14 (Bat  (None, 14, 14, 64)       256       \n",
            " chNormalization)                                                \n",
            "                                                                 \n",
            " leaky_re_lu_14 (LeakyReLU)  (None, 14, 14, 64)        0         \n",
            "                                                                 \n",
            " conv2d_transpose_14 (Conv2D  (None, 28, 28, 1)        1600      \n",
            " Transpose)                                                      \n",
            "                                                                 \n",
            "=================================================================\n",
            "Total params: 2,330,944\n",
            "Trainable params: 2,305,472\n",
            "Non-trainable params: 25,472\n",
            "_________________________________________________________________\n"
          ]
        }
      ]
    },
    {
      "cell_type": "code",
      "source": [
        "gen_net.input"
      ],
      "metadata": {
        "colab": {
          "base_uri": "https://localhost:8080/"
        },
        "id": "eaohJ1KPoPL-",
        "outputId": "6bda7447-d00a-4cfb-e9c3-0221a077aeb2"
      },
      "execution_count": 67,
      "outputs": [
        {
          "output_type": "execute_result",
          "data": {
            "text/plain": [
              "<KerasTensor: shape=(None, 100) dtype=float32 (created by layer 'dense_4_input')>"
            ]
          },
          "metadata": {},
          "execution_count": 67
        }
      ]
    },
    {
      "cell_type": "code",
      "source": [
        "noise = tf.random.normal([1, 100])\n",
        "\n",
        "gen_image = gen_net(noise, training=False)"
      ],
      "metadata": {
        "id": "zpe7X-Tco1pX"
      },
      "execution_count": 71,
      "outputs": []
    },
    {
      "cell_type": "code",
      "source": [
        "plt.imshow(gen_image[0, :, :, 0], cmap=\"gray\")\n",
        "\n",
        "plt.title(\"Image by Noise Input\")\n",
        "\n",
        "plt.show()"
      ],
      "metadata": {
        "colab": {
          "base_uri": "https://localhost:8080/",
          "height": 452
        },
        "id": "O4cb40XXr7RQ",
        "outputId": "540f5ccf-6607-46d8-a968-90b50dbcc0ad"
      },
      "execution_count": 75,
      "outputs": [
        {
          "output_type": "display_data",
          "data": {
            "text/plain": [
              "<Figure size 640x480 with 1 Axes>"
            ],
            "image/png": "[encoded data removed]"
          },
          "metadata": {}
        }
      ]
    },
    {
      "cell_type": "markdown",
      "source": [
        "# Creating **Discriminator**"
      ],
      "metadata": {
        "id": "aa6r00GltSwV"
      }
    },
    {
      "cell_type": "code",
      "source": [],
      "metadata": {
        "id": "P_P_l71ns3Rc"
      },
      "execution_count": null,
      "outputs": []
    }
  ],
  "metadata": {
    "colab": {
      "provenance": []
    },
    "kernelspec": {
      "display_name": "Python 3",
      "name": "python3"
    },
    "language_info": {
      "codemirror_mode": {
        "name": "ipython",
        "version": 3
      },
      "file_extension": ".py",
      "mimetype": "text/x-python",
      "name": "python",
      "nbconvert_exporter": "python",
      "pygments_lexer": "ipython3",
      "version": "3.10.6"
    }
  },
  "nbformat": 4,
  "nbformat_minor": 0
}